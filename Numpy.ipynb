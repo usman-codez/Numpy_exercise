{
  "nbformat": 4,
  "nbformat_minor": 0,
  "metadata": {
    "colab": {
      "provenance": [],
      "authorship_tag": "ABX9TyMec1pQrri/sevCgq4SHyeq",
      "include_colab_link": true
    },
    "kernelspec": {
      "name": "python3",
      "display_name": "Python 3"
    },
    "language_info": {
      "name": "python"
    }
  },
  "cells": [
    {
      "cell_type": "markdown",
      "metadata": {
        "id": "view-in-github",
        "colab_type": "text"
      },
      "source": [
        "<a href=\"https://colab.research.google.com/github/usman-codez/Numpy_exercise/blob/main/Numpy.ipynb\" target=\"_parent\"><img src=\"https://colab.research.google.com/assets/colab-badge.svg\" alt=\"Open In Colab\"/></a>"
      ]
    },
    {
      "cell_type": "code",
      "execution_count": null,
      "metadata": {
        "id": "2HdaBJyvnEtt"
      },
      "outputs": [],
      "source": [
        "import numpy as np"
      ]
    },
    {
      "cell_type": "code",
      "source": [
        "myarr = np.array([[3,5,6,8]])\n",
        "myarr[0,2] = 56\n",
        "print(myarr.shape)"
      ],
      "metadata": {
        "colab": {
          "base_uri": "https://localhost:8080/"
        },
        "id": "gnX5TQJJnLu1",
        "outputId": "ed109b0a-38cd-49c9-c976-84e03f638dc5"
      },
      "execution_count": null,
      "outputs": [
        {
          "output_type": "stream",
          "name": "stdout",
          "text": [
            "(1, 4)\n"
          ]
        }
      ]
    },
    {
      "cell_type": "code",
      "source": [
        "listarr = np.array([[2,3,4],[5,6,3],[2,5,3]])\n",
        "print(listarr)\n",
        "print(listarr.dtype)\n",
        "print(listarr.size)"
      ],
      "metadata": {
        "colab": {
          "base_uri": "https://localhost:8080/"
        },
        "id": "JETGC0jRo3F5",
        "outputId": "63f3f8ac-124a-479d-ba80-c8e715b3f53f"
      },
      "execution_count": null,
      "outputs": [
        {
          "output_type": "stream",
          "name": "stdout",
          "text": [
            "[[2 3 4]\n",
            " [5 6 3]\n",
            " [2 5 3]]\n",
            "int64\n",
            "9\n"
          ]
        }
      ]
    },
    {
      "cell_type": "code",
      "source": [
        "emp = np.empty((2,3))\n",
        "print(emp+2*3)"
      ],
      "metadata": {
        "colab": {
          "base_uri": "https://localhost:8080/"
        },
        "id": "ec6ittHFqRBQ",
        "outputId": "2174baf0-862f-4ae3-fd2a-d0f26f8d3ab6"
      },
      "execution_count": null,
      "outputs": [
        {
          "output_type": "stream",
          "name": "stdout",
          "text": [
            "[[6. 6. 6.]\n",
            " [6. 6. 6.]]\n"
          ]
        }
      ]
    },
    {
      "cell_type": "code",
      "source": [
        "i = np.identity(3,dtype=np.int64)\n",
        "print(i)"
      ],
      "metadata": {
        "colab": {
          "base_uri": "https://localhost:8080/"
        },
        "id": "kKdXOsrgq1_h",
        "outputId": "81bc0172-ca58-4c68-e4b2-3a3742ea2f2e"
      },
      "execution_count": null,
      "outputs": [
        {
          "output_type": "stream",
          "name": "stdout",
          "text": [
            "[[1 0 0]\n",
            " [0 1 0]\n",
            " [0 0 1]]\n"
          ]
        }
      ]
    },
    {
      "cell_type": "code",
      "source": [
        "x = np.array([[1,2,3],[3,2,4],[7,9,1]])\n",
        "print(x)\n",
        "print(x.sum(axis=1))"
      ],
      "metadata": {
        "colab": {
          "base_uri": "https://localhost:8080/"
        },
        "id": "bfd1Xw2_sntq",
        "outputId": "3fe886da-a0c5-47a2-adc3-07165bf7130c"
      },
      "execution_count": null,
      "outputs": [
        {
          "output_type": "stream",
          "name": "stdout",
          "text": [
            "[[1 2 3]\n",
            " [3 2 4]\n",
            " [7 9 1]]\n",
            "[ 6  9 17]\n"
          ]
        }
      ]
    },
    {
      "cell_type": "code",
      "source": [
        "print(x.T) #Transpose the matrix"
      ],
      "metadata": {
        "colab": {
          "base_uri": "https://localhost:8080/"
        },
        "id": "02vjATgotyPs",
        "outputId": "64e2a1a9-2ed3-4cc4-8e9b-d33131a5d512"
      },
      "execution_count": null,
      "outputs": [
        {
          "output_type": "stream",
          "name": "stdout",
          "text": [
            "[[1 3 7]\n",
            " [2 2 3]\n",
            " [3 4 1]]\n"
          ]
        }
      ]
    },
    {
      "cell_type": "code",
      "source": [
        "print(x.ndim)\n",
        "print(x.nbytes)"
      ],
      "metadata": {
        "colab": {
          "base_uri": "https://localhost:8080/"
        },
        "id": "ip0Z6aV9vAEu",
        "outputId": "358140fe-6695-4091-c28c-94a64382455e"
      },
      "execution_count": null,
      "outputs": [
        {
          "output_type": "stream",
          "name": "stdout",
          "text": [
            "2\n",
            "72\n"
          ]
        }
      ]
    },
    {
      "cell_type": "code",
      "source": [
        "x.argsort()"
      ],
      "metadata": {
        "colab": {
          "base_uri": "https://localhost:8080/"
        },
        "id": "_6r1TZBev8Pt",
        "outputId": "17e0dc2b-d839-4dcb-abc5-d52c84f3c5c8"
      },
      "execution_count": null,
      "outputs": [
        {
          "output_type": "execute_result",
          "data": {
            "text/plain": [
              "array([[0, 1, 2],\n",
              "       [1, 0, 2],\n",
              "       [2, 0, 1]])"
            ]
          },
          "metadata": {},
          "execution_count": 49
        }
      ]
    },
    {
      "cell_type": "markdown",
      "source": [
        "# ***Problem Sol***"
      ],
      "metadata": {
        "id": "k48GBHtx0pJ3"
      }
    },
    {
      "cell_type": "code",
      "source": [
        "# Create a null vector of size 10\n",
        "import numpy as np\n",
        "null_vec = np.zeros(10)\n",
        "print(null_vec)"
      ],
      "metadata": {
        "colab": {
          "base_uri": "https://localhost:8080/"
        },
        "id": "-c2gHV0A0nkG",
        "outputId": "fa83d550-81ed-4873-f14c-b335ddd9f18a"
      },
      "execution_count": null,
      "outputs": [
        {
          "output_type": "stream",
          "name": "stdout",
          "text": [
            "[0. 0. 0. 0. 0. 0. 0. 0. 0. 0.]\n"
          ]
        }
      ]
    },
    {
      "cell_type": "code",
      "source": [
        "#Find memory size of array\n",
        "m = null_vec.nbytes\n",
        "print(m)"
      ],
      "metadata": {
        "colab": {
          "base_uri": "https://localhost:8080/"
        },
        "id": "zoePH3pa1Qp6",
        "outputId": "f2270da9-ad01-4872-a44b-9f6c9f761732"
      },
      "execution_count": null,
      "outputs": [
        {
          "output_type": "stream",
          "name": "stdout",
          "text": [
            "80\n"
          ]
        }
      ]
    },
    {
      "cell_type": "code",
      "source": [
        "#Create a null vector of size 10 but the fifth value which is 1\n",
        "n = np.zeros(10)\n",
        "n[4]=1\n",
        "print(n)"
      ],
      "metadata": {
        "colab": {
          "base_uri": "https://localhost:8080/"
        },
        "id": "D7wV0qRC71Yu",
        "outputId": "fa10d6d2-f4fc-44fe-f070-c14843665533"
      },
      "execution_count": null,
      "outputs": [
        {
          "output_type": "stream",
          "name": "stdout",
          "text": [
            "[0. 0. 0. 0. 1. 0. 0. 0. 0. 0.]\n"
          ]
        }
      ]
    },
    {
      "cell_type": "code",
      "source": [
        "#Create a vector with values ranging from 10 to 49\n",
        "v = np.arange(10,50)\n",
        "print(v)"
      ],
      "metadata": {
        "colab": {
          "base_uri": "https://localhost:8080/"
        },
        "id": "tnX93-84-DbP",
        "outputId": "23a0abc9-0089-4120-e34a-ac8a8524d176"
      },
      "execution_count": null,
      "outputs": [
        {
          "output_type": "stream",
          "name": "stdout",
          "text": [
            "[10 11 12 13 14 15 16 17 18 19 20 21 22 23 24 25 26 27 28 29 30 31 32 33\n",
            " 34 35 36 37 38 39 40 41 42 43 44 45 46 47 48 49]\n"
          ]
        }
      ]
    },
    {
      "cell_type": "code",
      "source": [
        "#Reverse a vector (first element becomes last)\n",
        "print(v[::-1])"
      ],
      "metadata": {
        "colab": {
          "base_uri": "https://localhost:8080/"
        },
        "id": "9MmuinBW-XRq",
        "outputId": "834cf3a3-24a2-492c-e6f5-e7079855e913"
      },
      "execution_count": null,
      "outputs": [
        {
          "output_type": "stream",
          "name": "stdout",
          "text": [
            "[49 48 47 46 45 44 43 42 41 40 39 38 37 36 35 34 33 32 31 30 29 28 27 26\n",
            " 25 24 23 22 21 20 19 18 17 16 15 14 13 12 11 10]\n"
          ]
        }
      ]
    },
    {
      "cell_type": "code",
      "source": [
        "#Create a 3x3 matrix with values ranging from 0 to 8\n",
        "# mat = np.array([[0,1,2],[3,4,5],[6,7,8]])\n",
        "mat = np.arange(0,9).reshape(3,3)\n",
        "print(mat)"
      ],
      "metadata": {
        "colab": {
          "base_uri": "https://localhost:8080/"
        },
        "id": "sdeQ6rEHE4Z9",
        "outputId": "96f564d1-ac89-45fb-903d-5dd0a09ca086"
      },
      "execution_count": null,
      "outputs": [
        {
          "output_type": "stream",
          "name": "stdout",
          "text": [
            "[[0 1 2]\n",
            " [3 4 5]\n",
            " [6 7 8]]\n"
          ]
        }
      ]
    },
    {
      "cell_type": "code",
      "source": [
        "#Find indices of non-zero elements from [1,2,0,0,4,0]\n",
        "m = np.array([1,2,0,0,4,0])\n",
        "print(m.nonzero())"
      ],
      "metadata": {
        "colab": {
          "base_uri": "https://localhost:8080/"
        },
        "id": "m7cxIfwFGhzf",
        "outputId": "e145d6dd-e0c8-470e-e226-fc066919dd15"
      },
      "execution_count": null,
      "outputs": [
        {
          "output_type": "stream",
          "name": "stdout",
          "text": [
            "(array([0, 1, 4]),)\n"
          ]
        }
      ]
    },
    {
      "cell_type": "code",
      "source": [
        "#Create a 3x3 identity matrix\n",
        "i = np.identity(3,dtype=np.int64)\n",
        "print(i)"
      ],
      "metadata": {
        "colab": {
          "base_uri": "https://localhost:8080/"
        },
        "id": "RriRFgAxHohp",
        "outputId": "0097dd6f-c0e3-4ff8-de3b-a368c00c510b"
      },
      "execution_count": null,
      "outputs": [
        {
          "output_type": "stream",
          "name": "stdout",
          "text": [
            "[[1 0 0]\n",
            " [0 1 0]\n",
            " [0 0 1]]\n"
          ]
        }
      ]
    },
    {
      "cell_type": "code",
      "source": [
        "# Create a 3x3x3 array with random values\n",
        "r = np.random.random((3,3,3))\n",
        "print(r)"
      ],
      "metadata": {
        "colab": {
          "base_uri": "https://localhost:8080/"
        },
        "id": "ncsGVuqlJQXB",
        "outputId": "84b68e52-0be5-4c5d-cdcb-ea85ebb2d749"
      },
      "execution_count": null,
      "outputs": [
        {
          "output_type": "stream",
          "name": "stdout",
          "text": [
            "[[[0.48752848 0.20982825 0.15707859]\n",
            "  [0.4630724  0.89785003 0.83500514]\n",
            "  [0.78282275 0.36263054 0.60477971]]\n",
            "\n",
            " [[0.72595373 0.69003157 0.88679833]\n",
            "  [0.69176606 0.20742211 0.37523   ]\n",
            "  [0.37426727 0.63125621 0.42077213]]\n",
            "\n",
            " [[0.3944092  0.2695338  0.45436176]\n",
            "  [0.35530413 0.46168629 0.91279121]\n",
            "  [0.77145828 0.6071822  0.51724968]]]\n"
          ]
        }
      ]
    },
    {
      "cell_type": "code",
      "source": [
        "#Create a 10x10 array with random values and find the minimum and maximum values\n",
        "a = np.random.random((10,10))\n",
        "print(a.min())\n",
        "print(a.max())"
      ],
      "metadata": {
        "colab": {
          "base_uri": "https://localhost:8080/"
        },
        "id": "i8UgOqWlKDI2",
        "outputId": "031eadd1-2a9f-4136-e304-71bea4c31824"
      },
      "execution_count": null,
      "outputs": [
        {
          "output_type": "stream",
          "name": "stdout",
          "text": [
            "0.015499766401014914\n",
            "0.994224214142627\n"
          ]
        }
      ]
    },
    {
      "cell_type": "code",
      "source": [
        "#Create a random vector of size 30 and find the mean value\n",
        "rand = np.random.random(30)\n",
        "print(rand.mean())"
      ],
      "metadata": {
        "colab": {
          "base_uri": "https://localhost:8080/"
        },
        "id": "0U41DCOlLyZB",
        "outputId": "ef1ccf78-4f1a-4398-b88e-a60abdfd74f3"
      },
      "execution_count": null,
      "outputs": [
        {
          "output_type": "stream",
          "name": "stdout",
          "text": [
            "0.5837126173372958\n"
          ]
        }
      ]
    },
    {
      "cell_type": "code",
      "source": [
        "#Create a 2d array with 1 on the border and 0 inside\n",
        "d = np.ones((5,5),dtype=int)\n",
        "d[1:-1,1:-1]=0\n",
        "print(d)"
      ],
      "metadata": {
        "colab": {
          "base_uri": "https://localhost:8080/"
        },
        "id": "6xfVDntSMKMD",
        "outputId": "a5e4d929-d2b9-45c5-f80a-9b9147ce3a5a"
      },
      "execution_count": null,
      "outputs": [
        {
          "output_type": "stream",
          "name": "stdout",
          "text": [
            "[[1 1 1 1 1]\n",
            " [1 0 0 0 1]\n",
            " [1 0 0 0 1]\n",
            " [1 0 0 0 1]\n",
            " [1 1 1 1 1]]\n"
          ]
        }
      ]
    },
    {
      "cell_type": "code",
      "source": [
        "#  How to add a border (filled with 0's) around an existing array?\n",
        "import numpy as np\n",
        "a = np.random.random((5,5))\n",
        "a = np.pad(a,pad_width=1,mode='constant',constant_values=0)\n",
        "print(a)"
      ],
      "metadata": {
        "colab": {
          "base_uri": "https://localhost:8080/"
        },
        "id": "S7cQck9kNPjl",
        "outputId": "7fb07442-361e-4ee1-842a-3e60c2d25ec4"
      },
      "execution_count": null,
      "outputs": [
        {
          "output_type": "stream",
          "name": "stdout",
          "text": [
            "[[0.         0.         0.         0.         0.         0.\n",
            "  0.        ]\n",
            " [0.         0.4081297  0.55202053 0.05089339 0.00572605 0.71669534\n",
            "  0.        ]\n",
            " [0.         0.91993644 0.18736278 0.10699371 0.63523734 0.28411768\n",
            "  0.        ]\n",
            " [0.         0.49544389 0.93473269 0.99833192 0.51816281 0.300609\n",
            "  0.        ]\n",
            " [0.         0.10648577 0.15989946 0.85993505 0.76868369 0.24949292\n",
            "  0.        ]\n",
            " [0.         0.0096188  0.17954645 0.25134992 0.05218603 0.09424936\n",
            "  0.        ]\n",
            " [0.         0.         0.         0.         0.         0.\n",
            "  0.        ]]\n"
          ]
        }
      ]
    },
    {
      "cell_type": "code",
      "source": [
        "#What the result of the following\n",
        "print(0 * np.nan)\n",
        "print(np.nan == np.nan)\n",
        "print(np.inf > np.nan)\n",
        "print(np.nan - np.nan)\n",
        "print(0.3 == 3 * 0.1)"
      ],
      "metadata": {
        "colab": {
          "base_uri": "https://localhost:8080/"
        },
        "id": "pNEbBzu3p6DV",
        "outputId": "5a6d286f-4ebc-491b-9e2c-1ef3f936de41"
      },
      "execution_count": null,
      "outputs": [
        {
          "output_type": "stream",
          "name": "stdout",
          "text": [
            "nan\n",
            "False\n",
            "False\n",
            "nan\n",
            "False\n"
          ]
        }
      ]
    },
    {
      "cell_type": "code",
      "source": [
        "# Create a 5x5 matrix with values 1,2,3,4 just below the diagonal\n",
        "a = np.diag(np.arange(1,5),k=-1)\n",
        "print(a)"
      ],
      "metadata": {
        "colab": {
          "base_uri": "https://localhost:8080/"
        },
        "id": "H6owyYwispJe",
        "outputId": "476e20d5-adf4-42f0-f0e3-b8359bbf3dd8"
      },
      "execution_count": null,
      "outputs": [
        {
          "output_type": "stream",
          "name": "stdout",
          "text": [
            "[[0 0 0 0 0]\n",
            " [1 0 0 0 0]\n",
            " [0 2 0 0 0]\n",
            " [0 0 3 0 0]\n",
            " [0 0 0 4 0]]\n"
          ]
        }
      ]
    },
    {
      "cell_type": "code",
      "source": [
        "#Create a 8x8 matrix and fill it with a checkerboard pattern\n",
        "c = np.zeros((8,8))\n",
        "c[1::2,::2]=1\n",
        "c[::2,1::2]=1\n",
        "print(c)"
      ],
      "metadata": {
        "colab": {
          "base_uri": "https://localhost:8080/"
        },
        "id": "pNsAtCnku3JU",
        "outputId": "fbf4922b-f05e-4724-88cd-fd3f1247e49b"
      },
      "execution_count": null,
      "outputs": [
        {
          "output_type": "stream",
          "name": "stdout",
          "text": [
            "[[0. 1. 0. 1. 0. 1. 0. 1.]\n",
            " [1. 0. 1. 0. 1. 0. 1. 0.]\n",
            " [0. 1. 0. 1. 0. 1. 0. 1.]\n",
            " [1. 0. 1. 0. 1. 0. 1. 0.]\n",
            " [0. 1. 0. 1. 0. 1. 0. 1.]\n",
            " [1. 0. 1. 0. 1. 0. 1. 0.]\n",
            " [0. 1. 0. 1. 0. 1. 0. 1.]\n",
            " [1. 0. 1. 0. 1. 0. 1. 0.]]\n"
          ]
        }
      ]
    },
    {
      "cell_type": "code",
      "source": [
        "#Consider a (6,7,8) shape array, what is the index (x,y,z) of the 100th element?\n",
        "print(np.unravel_index(100,(6,7,8)))"
      ],
      "metadata": {
        "colab": {
          "base_uri": "https://localhost:8080/"
        },
        "id": "yeYwCJxyxft2",
        "outputId": "a61327c4-7002-4c96-afec-b58fd41f17ee"
      },
      "execution_count": null,
      "outputs": [
        {
          "output_type": "stream",
          "name": "stdout",
          "text": [
            "(1, 5, 4)\n"
          ]
        }
      ]
    },
    {
      "cell_type": "code",
      "source": [
        "#Create a checkerboard 8x8 matrix using the tile function\n",
        "a = np.tile(np.array([[1,0],[0,1]]),(4,4))\n",
        "print(a)"
      ],
      "metadata": {
        "colab": {
          "base_uri": "https://localhost:8080/"
        },
        "id": "Wln_mOzB-Gnh",
        "outputId": "aed8b1a9-9a14-4d21-b626-741da31b06f5"
      },
      "execution_count": null,
      "outputs": [
        {
          "output_type": "stream",
          "name": "stdout",
          "text": [
            "[[1 0 1 0 1 0 1 0]\n",
            " [0 1 0 1 0 1 0 1]\n",
            " [1 0 1 0 1 0 1 0]\n",
            " [0 1 0 1 0 1 0 1]\n",
            " [1 0 1 0 1 0 1 0]\n",
            " [0 1 0 1 0 1 0 1]\n",
            " [1 0 1 0 1 0 1 0]\n",
            " [0 1 0 1 0 1 0 1]]\n"
          ]
        }
      ]
    },
    {
      "cell_type": "code",
      "source": [
        "#Normalize a 5x5 random matrix\n",
        "#Method_1\n",
        "# a = np.random.random((5,5))\n",
        "# nor = a-np.mean(a)\n",
        "# print(nor)\n",
        "\n",
        "#Method_2\n",
        "a = np.random.random((5,5))\n",
        "m = a.max()\n",
        "mi = a.min()\n",
        "nor = (a-mi)/(m-mi)\n",
        "print(nor)"
      ],
      "metadata": {
        "colab": {
          "base_uri": "https://localhost:8080/"
        },
        "id": "kdPpo0YFCvwe",
        "outputId": "3d4095ba-c208-4593-adfa-8caf36990a2b"
      },
      "execution_count": null,
      "outputs": [
        {
          "output_type": "stream",
          "name": "stdout",
          "text": [
            "[[0.52281606 0.23899417 0.98313993 0.01803158 0.31257582]\n",
            " [0.80301471 0.16919945 0.60526013 0.74744182 0.44700906]\n",
            " [0.08063681 0.60036057 1.         0.16786898 0.4542833 ]\n",
            " [0.99999693 0.55023294 0.79458534 0.60580198 0.81139468]\n",
            " [0.90289337 0.99986652 0.         0.05597782 0.76454313]]\n"
          ]
        }
      ]
    },
    {
      "cell_type": "code",
      "source": [
        "#Create a custom dtype that describes a color as four unsigned bytes (RGBA)\n",
        "cus = np.dtype([\n",
        "    ('r',np.ubyte,1),\n",
        "    ('g',np.ubyte,1),\n",
        "    ('b',np.ubyte,1),\n",
        "    ('a',np.ubyte,1)\n",
        "])\n",
        "print(cus)"
      ],
      "metadata": {
        "colab": {
          "base_uri": "https://localhost:8080/"
        },
        "id": "ll_a6bX5GF77",
        "outputId": "31ae4010-3d6b-43f8-d7f5-cb57f458a201"
      },
      "execution_count": null,
      "outputs": [
        {
          "output_type": "stream",
          "name": "stdout",
          "text": [
            "[('r', 'u1'), ('g', 'u1'), ('b', 'u1'), ('a', 'u1')]\n"
          ]
        },
        {
          "output_type": "stream",
          "name": "stderr",
          "text": [
            "<ipython-input-34-88ff5ecbab54>:2: FutureWarning: Passing (type, 1) or '1type' as a synonym of type is deprecated; in a future version of numpy, it will be understood as (type, (1,)) / '(1,)type'.\n",
            "  cus = np.dtype([\n"
          ]
        }
      ]
    },
    {
      "cell_type": "code",
      "source": [
        "#Multiply a 5x3 matrix by a 3x2 matrix (real matrix product)\n",
        "a = np.array([[2,3,4],[3,4,5],[12,4,9],[2,7,4],[1,1,1]])\n",
        "b = np.array([[2,3],[4,1],[1,3]])\n",
        "# prod1 = np.dot(a,b)\n",
        "prod2 = a @ b\n",
        "# print(prod1)\n",
        "print(prod2)"
      ],
      "metadata": {
        "colab": {
          "base_uri": "https://localhost:8080/"
        },
        "id": "kZiJwLQFHFDC",
        "outputId": "9fd32735-f673-413c-ae96-0c33cce25949"
      },
      "execution_count": null,
      "outputs": [
        {
          "output_type": "stream",
          "name": "stdout",
          "text": [
            "[[20 21]\n",
            " [27 28]\n",
            " [49 67]\n",
            " [36 25]\n",
            " [ 7  7]]\n"
          ]
        }
      ]
    },
    {
      "cell_type": "code",
      "source": [
        "# Given a 1D array, negate all elements which are between 3 and 8, in place.\n",
        "arr = np.array([2,3,6,1,7,4,6,1,2])\n",
        "arr[(arr>3) & (arr<8)] *= -1\n",
        "print(arr)"
      ],
      "metadata": {
        "colab": {
          "base_uri": "https://localhost:8080/"
        },
        "id": "j8Ik8590JFtI",
        "outputId": "00235d8a-a1da-4f5e-fb80-c1d5a65236e1"
      },
      "execution_count": null,
      "outputs": [
        {
          "output_type": "stream",
          "name": "stdout",
          "text": [
            "[ 2  3 -6  1 -7 -4 -6  1  2]\n"
          ]
        }
      ]
    },
    {
      "cell_type": "code",
      "source": [
        "print(sum(range(5),-1))\n",
        "from numpy import *\n",
        "print(sum(range(5),-1))"
      ],
      "metadata": {
        "id": "YVt2VmCWMJgg",
        "outputId": "0afe7e60-9f4a-4ba8-e9a6-45497bc03b58",
        "colab": {
          "base_uri": "https://localhost:8080/"
        }
      },
      "execution_count": null,
      "outputs": [
        {
          "output_type": "stream",
          "name": "stdout",
          "text": [
            "9\n",
            "10\n"
          ]
        }
      ]
    },
    {
      "cell_type": "code",
      "source": [
        "import numpy as np\n",
        "print(np.array(0) / np.array(0))\n",
        "print(np.array(0) // np.array(0))\n",
        "print(np.array([np.nan]).astype(int).astype(float))"
      ],
      "metadata": {
        "colab": {
          "base_uri": "https://localhost:8080/"
        },
        "id": "ucOlBDIXRo14",
        "outputId": "f0b675f7-2c74-40ab-e393-5d56c40ee20a"
      },
      "execution_count": null,
      "outputs": [
        {
          "output_type": "stream",
          "name": "stdout",
          "text": [
            "nan\n",
            "0\n",
            "[-9.22337204e+18]\n"
          ]
        },
        {
          "output_type": "stream",
          "name": "stderr",
          "text": [
            "<ipython-input-2-779629cb3f15>:2: RuntimeWarning: invalid value encountered in divide\n",
            "  print(np.array(0) / np.array(0))\n",
            "<ipython-input-2-779629cb3f15>:3: RuntimeWarning: divide by zero encountered in floor_divide\n",
            "  print(np.array(0) // np.array(0))\n",
            "<ipython-input-2-779629cb3f15>:4: RuntimeWarning: invalid value encountered in cast\n",
            "  print(np.array([np.nan]).astype(int).astype(float))\n"
          ]
        }
      ]
    },
    {
      "cell_type": "code",
      "source": [
        "# How to round away from zero a float array ?\n",
        "z = np.random.uniform(-10,+10,10)\n",
        "print(z)\n",
        "a = np.abs(z)\n",
        "c = np.ceil(a)\n",
        "s = np.copysign(c,z)\n",
        "print(s)"
      ],
      "metadata": {
        "colab": {
          "base_uri": "https://localhost:8080/"
        },
        "id": "3BfuA4PfTK45",
        "outputId": "248d331f-36df-4af8-d0f0-2cd76967b9d9"
      },
      "execution_count": null,
      "outputs": [
        {
          "output_type": "stream",
          "name": "stdout",
          "text": [
            "[ 7.78281047 -5.31317088  9.57428741 -1.58557591 -7.69770122 -5.36227695\n",
            "  5.33288639  5.71194673 -4.34804207  7.95661598]\n",
            "[ 8. -6. 10. -2. -8. -6.  6.  6. -5.  8.]\n"
          ]
        }
      ]
    },
    {
      "cell_type": "code",
      "source": [
        "# How to find common values between two arrays?\n",
        "a = np.random.randint(0,10,10)\n",
        "b = np.random.randint(0,10,10)\n",
        "common = np.intersect1d(a,b)\n",
        "print(a)\n",
        "print(b)\n",
        "print(common)"
      ],
      "metadata": {
        "colab": {
          "base_uri": "https://localhost:8080/"
        },
        "id": "CAjSPhQrY0e4",
        "outputId": "bf413c95-8e84-4279-ef80-30e901484706"
      },
      "execution_count": null,
      "outputs": [
        {
          "output_type": "stream",
          "name": "stdout",
          "text": [
            "[9 5 6 9 6 5 6 9 1 7]\n",
            "[6 0 6 1 4 9 9 9 8 6]\n",
            "[1 6 9]\n"
          ]
        }
      ]
    },
    {
      "cell_type": "code",
      "source": [
        "import numpy as np\n",
        "# Suicide mode on\n",
        "defaults = np.seterr(all=\"ignore\")\n",
        "Z = np.ones(1) / 0\n",
        "print(Z)\n",
        "\n",
        "# Back to sanity\n",
        "_ = np.seterr(**defaults)\n",
        "\n",
        "# An equivalent way, with a context manager:\n",
        "\n",
        "with np.errstate(divide='ignore'):\n",
        "    Z = np.ones(1) / 0\n",
        "    print(Z)"
      ],
      "metadata": {
        "colab": {
          "base_uri": "https://localhost:8080/"
        },
        "id": "Hkw0qQzwG0z5",
        "outputId": "8e2ecbaf-8458-4227-ae62-b001cf248b77"
      },
      "execution_count": null,
      "outputs": [
        {
          "output_type": "stream",
          "name": "stdout",
          "text": [
            "[inf]\n",
            "{'divide': 'warn', 'over': 'warn', 'under': 'ignore', 'invalid': 'warn'}\n",
            "[inf]\n"
          ]
        }
      ]
    },
    {
      "cell_type": "code",
      "source": [
        "print(np.sqrt(-1))\n",
        "print(np.emath.sqrt(-1))\n",
        "np.sqrt(-1) == np.emath.sqrt(-1)"
      ],
      "metadata": {
        "colab": {
          "base_uri": "https://localhost:8080/"
        },
        "id": "johH19fyHuUQ",
        "outputId": "c1925ec1-bb4c-4565-a73d-88a91c8f47d9"
      },
      "execution_count": null,
      "outputs": [
        {
          "output_type": "stream",
          "name": "stdout",
          "text": [
            "nan\n",
            "1j\n"
          ]
        },
        {
          "output_type": "stream",
          "name": "stderr",
          "text": [
            "<ipython-input-8-1a00e04f85bb>:1: RuntimeWarning: invalid value encountered in sqrt\n",
            "  print(np.sqrt(-1))\n",
            "<ipython-input-8-1a00e04f85bb>:3: RuntimeWarning: invalid value encountered in sqrt\n",
            "  np.sqrt(-1) == np.emath.sqrt(-1)\n"
          ]
        },
        {
          "output_type": "execute_result",
          "data": {
            "text/plain": [
              "False"
            ]
          },
          "metadata": {},
          "execution_count": 8
        }
      ]
    },
    {
      "cell_type": "code",
      "source": [
        "# How to get the dates of yesterday, today and tomorrow?\n",
        "yes = np.datetime64('Today','D') - np.timedelta64(1,'D')\n",
        "tod = np.datetime64('Today','D')\n",
        "tom = np.datetime64('Today','D') + np.timedelta64(1,'D')\n",
        "print(yes)\n",
        "print(tod)\n",
        "print(tom)"
      ],
      "metadata": {
        "colab": {
          "base_uri": "https://localhost:8080/"
        },
        "id": "a7NlHxvVLJnU",
        "outputId": "910fc35c-efc7-4442-bdda-863a61562506"
      },
      "execution_count": null,
      "outputs": [
        {
          "output_type": "stream",
          "name": "stdout",
          "text": [
            "2024-09-22\n",
            "2024-09-23\n",
            "2024-09-24\n"
          ]
        }
      ]
    },
    {
      "cell_type": "code",
      "source": [
        "#  How to get all the dates corresponding to the month of July 2016?\n",
        "d = np.arange('2016-07','2016-08',dtype='datetime64[D]')\n",
        "print(d)"
      ],
      "metadata": {
        "colab": {
          "base_uri": "https://localhost:8080/"
        },
        "id": "8a6jL3FxOf0W",
        "outputId": "8fdd5e9e-e81e-48a9-f79e-b4cb24e7fcdb"
      },
      "execution_count": null,
      "outputs": [
        {
          "output_type": "stream",
          "name": "stdout",
          "text": [
            "['2016-07-01' '2016-07-02' '2016-07-03' '2016-07-04' '2016-07-05'\n",
            " '2016-07-06' '2016-07-07' '2016-07-08' '2016-07-09' '2016-07-10'\n",
            " '2016-07-11' '2016-07-12' '2016-07-13' '2016-07-14' '2016-07-15'\n",
            " '2016-07-16' '2016-07-17' '2016-07-18' '2016-07-19' '2016-07-20'\n",
            " '2016-07-21' '2016-07-22' '2016-07-23' '2016-07-24' '2016-07-25'\n",
            " '2016-07-26' '2016-07-27' '2016-07-28' '2016-07-29' '2016-07-30'\n",
            " '2016-07-31']\n"
          ]
        }
      ]
    },
    {
      "cell_type": "code",
      "source": [
        "# How to compute ((A+B)*(-A/2)) in place (without copy)?\n",
        "A = np.array([[1,2],[8,4]])\n",
        "B = np.array([[4,6],[2,1]])\n",
        "np.add(A,B,out=B)\n",
        "np.divide(A,2,out=A, casting='unsafe')\n",
        "np.negative(A,out=A)\n",
        "np.multiply(A,B,out=A)"
      ],
      "metadata": {
        "colab": {
          "base_uri": "https://localhost:8080/"
        },
        "id": "N71FXZ94Rjsw",
        "outputId": "5cb4e732-bb70-4c2d-a05f-a38181c38c91"
      },
      "execution_count": null,
      "outputs": [
        {
          "output_type": "execute_result",
          "data": {
            "text/plain": [
              "array([[  0,  -8],\n",
              "       [-40, -10]])"
            ]
          },
          "metadata": {},
          "execution_count": 34
        }
      ]
    },
    {
      "cell_type": "code",
      "source": [
        "# Extract the integer part of a random array using 5 different methods\n",
        "a = np.random.uniform(0,10,10)\n",
        "print(a)\n",
        "print(np.floor(a))\n",
        "print(np.ceil(a))\n",
        "print(np.trunc(a))\n",
        "print(np.fix(a))\n",
        "print(a.astype(int))\n",
        "print(np.round(a))"
      ],
      "metadata": {
        "colab": {
          "base_uri": "https://localhost:8080/"
        },
        "id": "9FTfnEghYLbJ",
        "outputId": "ef567b80-b4c1-440b-fb0f-100e7bfbbde5"
      },
      "execution_count": null,
      "outputs": [
        {
          "output_type": "stream",
          "name": "stdout",
          "text": [
            "[8.17191529 3.10690054 0.45336904 3.76212958 4.88613332 6.71761498\n",
            " 0.16729837 3.75315622 3.57885934 8.70392984]\n",
            "[8. 3. 0. 3. 4. 6. 0. 3. 3. 8.]\n",
            "[9. 4. 1. 4. 5. 7. 1. 4. 4. 9.]\n",
            "[8. 3. 0. 3. 4. 6. 0. 3. 3. 8.]\n",
            "[8. 3. 0. 3. 4. 6. 0. 3. 3. 8.]\n",
            "[8 3 0 3 4 6 0 3 3 8]\n",
            "[8. 3. 0. 4. 5. 7. 0. 4. 4. 9.]\n"
          ]
        }
      ]
    },
    {
      "cell_type": "code",
      "source": [
        "# Create a 5x5 matrix with row values ranging from 0 to 4\n",
        "m = np.zeros((5,5))\n",
        "m += np.arange(5)\n",
        "print(m)"
      ],
      "metadata": {
        "colab": {
          "base_uri": "https://localhost:8080/"
        },
        "id": "Mrdgq3acbVeH",
        "outputId": "59bfa1e2-880a-4647-f558-49bcd8f91d87"
      },
      "execution_count": null,
      "outputs": [
        {
          "output_type": "stream",
          "name": "stdout",
          "text": [
            "[[0. 1. 2. 3. 4.]\n",
            " [0. 1. 2. 3. 4.]\n",
            " [0. 1. 2. 3. 4.]\n",
            " [0. 1. 2. 3. 4.]\n",
            " [0. 1. 2. 3. 4.]]\n"
          ]
        }
      ]
    },
    {
      "cell_type": "code",
      "source": [
        "# Consider a generator function that generates 10 integers and use it to build an array\n",
        "import numpy as np\n",
        "def gen():\n",
        "  for i in range(10):\n",
        "    yield i\n",
        "\n",
        "a = gen()\n",
        "arr = np.array(list(a))\n",
        "print(arr)\n"
      ],
      "metadata": {
        "colab": {
          "base_uri": "https://localhost:8080/"
        },
        "id": "mbeZzMVOKH1I",
        "outputId": "203b5da9-277f-412c-b0eb-6c462209eb12"
      },
      "execution_count": null,
      "outputs": [
        {
          "output_type": "stream",
          "name": "stdout",
          "text": [
            "[0 1 2 3 4 5 6 7 8 9]\n"
          ]
        }
      ]
    },
    {
      "cell_type": "code",
      "source": [
        "# Create a vector of size 10 with values ranging from 0 to 1, both excluded\n",
        "a = np.linspace(0,1,11,endpoint=False)[1:]\n",
        "print(a)"
      ],
      "metadata": {
        "colab": {
          "base_uri": "https://localhost:8080/"
        },
        "id": "0NwC_wtdPjJu",
        "outputId": "58319d1c-b799-48bc-c0ed-121624cd343f"
      },
      "execution_count": null,
      "outputs": [
        {
          "output_type": "stream",
          "name": "stdout",
          "text": [
            "[0.09090909 0.18181818 0.27272727 0.36363636 0.45454545 0.54545455\n",
            " 0.63636364 0.72727273 0.81818182 0.90909091]\n"
          ]
        }
      ]
    },
    {
      "cell_type": "code",
      "source": [
        "# Create a random vector of size 10 and sort it\n",
        "a = np.random.random(10)\n",
        "print(np.sort(a))"
      ],
      "metadata": {
        "colab": {
          "base_uri": "https://localhost:8080/"
        },
        "id": "ifz7UUKPRM3s",
        "outputId": "cba23997-2359-46e2-feda-37bab5981e06"
      },
      "execution_count": null,
      "outputs": [
        {
          "output_type": "stream",
          "name": "stdout",
          "text": [
            "[0.0064951  0.10376412 0.16219448 0.30229713 0.3669538  0.56264353\n",
            " 0.58652571 0.78471315 0.88290744 0.98930255]\n"
          ]
        }
      ]
    },
    {
      "cell_type": "code",
      "source": [
        "# How to sum a small array faster than np.sum?\n",
        "z = np.arange(10)\n",
        "print(sum(z))"
      ],
      "metadata": {
        "colab": {
          "base_uri": "https://localhost:8080/"
        },
        "id": "DIxIv2g9SH4-",
        "outputId": "6ed6d477-66b6-4b58-fcf1-2178f1b62839"
      },
      "execution_count": null,
      "outputs": [
        {
          "output_type": "stream",
          "name": "stdout",
          "text": [
            "45\n"
          ]
        }
      ]
    },
    {
      "cell_type": "code",
      "source": [
        "#  Consider two random array A and B, check if they are equal\n",
        "A = np.random.randint(0,2,5)\n",
        "B = np.random.randint(0,2,5)\n",
        "\n",
        "eq = np.allclose(A,B)\n",
        "print(eq)\n",
        "\n",
        "e = np.array_equal(A,B)\n",
        "print(e)"
      ],
      "metadata": {
        "colab": {
          "base_uri": "https://localhost:8080/"
        },
        "id": "UIub-bH7S0Vd",
        "outputId": "9bdd1907-6455-403f-a997-b3ad5870c0f3"
      },
      "execution_count": null,
      "outputs": [
        {
          "output_type": "stream",
          "name": "stdout",
          "text": [
            "False\n",
            "False\n"
          ]
        }
      ]
    },
    {
      "cell_type": "code",
      "source": [
        "# Make an array immutable (read-only)\n",
        "a = np.random.randint(0,15,10)\n",
        "# a.setflags(write=False)\n",
        "a.flags.writeable=False\n",
        "print(a)"
      ],
      "metadata": {
        "colab": {
          "base_uri": "https://localhost:8080/"
        },
        "id": "C-WjtRZYVzrY",
        "outputId": "ce49fe46-3796-4bcb-e6fb-d84a2fad94c5"
      },
      "execution_count": null,
      "outputs": [
        {
          "output_type": "stream",
          "name": "stdout",
          "text": [
            "[ 9  0  0  9 11  5  1  1 14 14]\n"
          ]
        }
      ]
    },
    {
      "cell_type": "code",
      "source": [
        "# Consider a random 10x2 matrix representing cartesian coordinates, convert them to polar coordinates\n",
        "a = np.random.random((2,10))\n",
        "x,y = a[:,0],a[:,1]\n",
        "r = np.sqrt(x**2+y**2)\n",
        "t = np.arctan2(y,x)\n",
        "print(r)\n",
        "print(t)"
      ],
      "metadata": {
        "colab": {
          "base_uri": "https://localhost:8080/"
        },
        "id": "4Jzhw7OeXgB-",
        "outputId": "98f33030-d501-4b90-8b77-9c9311b98d1f"
      },
      "execution_count": null,
      "outputs": [
        {
          "output_type": "stream",
          "name": "stdout",
          "text": [
            "[0.31735176 0.42690387]\n",
            "[0.36019638 0.58184687]\n",
            "[0.4927146  0.74703772]\n"
          ]
        }
      ]
    },
    {
      "cell_type": "code",
      "source": [
        "import pandas as pd\n",
        "a = {\n",
        "    'name': ['ali','usman'],\n",
        "    'no': [846,932],\n",
        "    'mail': 'usmanx,usga'\n",
        "}\n",
        "d= pd.DataFrame(a)\n",
        "print(d)\n"
      ],
      "metadata": {
        "colab": {
          "base_uri": "https://localhost:8080/"
        },
        "id": "xm4IXPA9Ty0h",
        "outputId": "e713773a-983b-433e-acad-3935dfceb607"
      },
      "execution_count": null,
      "outputs": [
        {
          "output_type": "stream",
          "name": "stdout",
          "text": [
            "    name   no         mail\n",
            "0    ali  846  usmanx,usga\n",
            "1  usman  932  usmanx,usga\n"
          ]
        }
      ]
    }
  ]
}